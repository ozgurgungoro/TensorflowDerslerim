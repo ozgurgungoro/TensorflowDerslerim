{
 "cells": [
  {
   "cell_type": "code",
   "execution_count": 1,
   "id": "da2bc47f-7898-4ed4-ab75-2fe211917f73",
   "metadata": {},
   "outputs": [],
   "source": [
    "from sklearn.datasets import load_sample_images\n",
    "import tensorflow as tf"
   ]
  },
  {
   "cell_type": "code",
   "execution_count": 2,
   "id": "ffabf284-1b1a-49fc-b11d-b04787e1668f",
   "metadata": {},
   "outputs": [],
   "source": [
    "images = load_sample_images()[\"images\"]"
   ]
  },
  {
   "cell_type": "code",
   "execution_count": 4,
   "id": "02c2d744-867f-4567-9614-58346a6677ee",
   "metadata": {},
   "outputs": [
    {
     "data": {
      "text/plain": [
       "(427, 640, 3)"
      ]
     },
     "execution_count": 4,
     "metadata": {},
     "output_type": "execute_result"
    }
   ],
   "source": [
    "images[0].shape"
   ]
  },
  {
   "cell_type": "code",
   "execution_count": 5,
   "id": "b0d0267e-bbea-48eb-8255-319467aa3858",
   "metadata": {},
   "outputs": [],
   "source": [
    "images = tf.keras.layers.CenterCrop(height=80, width=120)(images)\n",
    "images = tf.keras.layers.Rescaling(scale=1/255)(images)"
   ]
  },
  {
   "cell_type": "code",
   "execution_count": 6,
   "id": "9b8236f6-e10d-4219-9505-be6ba836617b",
   "metadata": {},
   "outputs": [
    {
     "data": {
      "text/plain": [
       "TensorShape([2, 80, 120, 3])"
      ]
     },
     "execution_count": 6,
     "metadata": {},
     "output_type": "execute_result"
    }
   ],
   "source": [
    "images.shape"
   ]
  },
  {
   "cell_type": "code",
   "execution_count": 10,
   "id": "02a68182-1fc9-442f-a5ec-303cc3290a71",
   "metadata": {},
   "outputs": [],
   "source": [
    "conv_layer = tf.keras.layers.Conv2D(filters=32, kernel_size=7)"
   ]
  },
  {
   "cell_type": "code",
   "execution_count": 11,
   "id": "084f784c-e684-4e2a-85ea-5bdb6afb3725",
   "metadata": {},
   "outputs": [],
   "source": [
    "fmaps = conv_layer(images)"
   ]
  },
  {
   "cell_type": "code",
   "execution_count": 12,
   "id": "75e89ee5-6cc4-4be8-85e0-3dfa73916414",
   "metadata": {},
   "outputs": [
    {
     "data": {
      "text/plain": [
       "TensorShape([2, 74, 114, 32])"
      ]
     },
     "execution_count": 12,
     "metadata": {},
     "output_type": "execute_result"
    }
   ],
   "source": [
    "fmaps.shape"
   ]
  },
  {
   "cell_type": "code",
   "execution_count": 15,
   "id": "d315e0d7-88d0-4675-acf5-f5d4ec7764d2",
   "metadata": {},
   "outputs": [],
   "source": [
    "conv_layer = tf.keras.layers.Conv2D(filters=32, kernel_size=7, padding=\"same\")"
   ]
  },
  {
   "cell_type": "code",
   "execution_count": 16,
   "id": "c87ab2e0-2955-44a5-9735-bc96a95b9943",
   "metadata": {},
   "outputs": [],
   "source": [
    "fmaps = conv_layer(images)"
   ]
  },
  {
   "cell_type": "code",
   "execution_count": 17,
   "id": "6b07c095-2320-44e1-82fc-e63eea3d9f3e",
   "metadata": {},
   "outputs": [
    {
     "data": {
      "text/plain": [
       "TensorShape([2, 80, 120, 32])"
      ]
     },
     "execution_count": 17,
     "metadata": {},
     "output_type": "execute_result"
    }
   ],
   "source": [
    "fmaps.shape"
   ]
  },
  {
   "cell_type": "code",
   "execution_count": 20,
   "id": "2a5b67eb-0c19-41cc-8ade-55b3d8490665",
   "metadata": {},
   "outputs": [],
   "source": [
    "karlens, biases = conv_layer.get_weights()"
   ]
  },
  {
   "cell_type": "code",
   "execution_count": 23,
   "id": "82736c62-1e43-4ccc-abc0-4465fc8c0d75",
   "metadata": {},
   "outputs": [],
   "source": [
    "karlens, biases = conv_layer.get_weights()"
   ]
  },
  {
   "cell_type": "code",
   "execution_count": 25,
   "id": "165a25d4-01d5-44c5-a2c8-6f0d782b8f5b",
   "metadata": {},
   "outputs": [],
   "source": [
    "kernels_shape = karlens.shape"
   ]
  },
  {
   "cell_type": "code",
   "execution_count": 26,
   "id": "f92edaa3-8d7b-46e4-89f4-2dca4676d3f4",
   "metadata": {},
   "outputs": [
    {
     "data": {
      "text/plain": [
       "(7, 7, 3, 32)"
      ]
     },
     "execution_count": 26,
     "metadata": {},
     "output_type": "execute_result"
    }
   ],
   "source": [
    "karlens.shape"
   ]
  },
  {
   "cell_type": "code",
   "execution_count": 28,
   "id": "00a2c0a1-b07a-4e8c-bef9-e3726fd4ba7c",
   "metadata": {},
   "outputs": [
    {
     "data": {
      "text/plain": [
       "(32,)"
      ]
     },
     "execution_count": 28,
     "metadata": {},
     "output_type": "execute_result"
    }
   ],
   "source": [
    "biases.shape"
   ]
  },
  {
   "cell_type": "code",
   "execution_count": 29,
   "id": "ef41b125-77ab-4b2f-8df3-e7497f0835fc",
   "metadata": {},
   "outputs": [],
   "source": [
    "map_pool = tf.keras.layers.MaxPool2D(pool_size=2)"
   ]
  },
  {
   "cell_type": "code",
   "execution_count": 31,
   "id": "4c9d20fc-4d46-4a37-8612-826cbf3407ce",
   "metadata": {},
   "outputs": [],
   "source": [
    "from tensorflow.keras.layers import MaxPooling2D\n",
    "\n",
    "# Örnek olarak bir MaxPooling2D katmanı oluşturalım\n",
    "max_pool = MaxPooling2D(pool_size=(2, 2))\n",
    "\n",
    "# Ardından bu katmanı kullanarak bir görüntüyü işleyelim\n",
    "output = max_pool(images)"
   ]
  },
  {
   "cell_type": "code",
   "execution_count": 32,
   "id": "a24c9fd5-f7d0-4582-aa3d-d1add07bdf10",
   "metadata": {},
   "outputs": [
    {
     "data": {
      "text/plain": [
       "TensorShape([2, 40, 60, 3])"
      ]
     },
     "execution_count": 32,
     "metadata": {},
     "output_type": "execute_result"
    }
   ],
   "source": [
    "output.shape"
   ]
  },
  {
   "cell_type": "code",
   "execution_count": 33,
   "id": "2882a578-789e-4d2f-8ad9-956de352533d",
   "metadata": {},
   "outputs": [],
   "source": [
    "global_avg_pool = tf.keras.layers.GlobalAvgPool2D()"
   ]
  },
  {
   "cell_type": "code",
   "execution_count": 34,
   "id": "d3ca0e81-cdab-4759-bc0f-76cade0b104d",
   "metadata": {},
   "outputs": [
    {
     "data": {
      "text/plain": [
       "<tf.Tensor: shape=(2, 3), dtype=float32, numpy=\n",
       "array([[0.6368122 , 0.595365  , 0.5791015 ],\n",
       "       [0.76797295, 0.26938868, 0.11366344]], dtype=float32)>"
      ]
     },
     "execution_count": 34,
     "metadata": {},
     "output_type": "execute_result"
    }
   ],
   "source": [
    "global_avg_pool(images)"
   ]
  },
  {
   "cell_type": "code",
   "execution_count": null,
   "id": "3af5945d-7e05-4da3-b45e-4e8679bbb8d9",
   "metadata": {},
   "outputs": [],
   "source": []
  }
 ],
 "metadata": {
  "kernelspec": {
   "display_name": "Python 3 (ipykernel)",
   "language": "python",
   "name": "python3"
  },
  "language_info": {
   "codemirror_mode": {
    "name": "ipython",
    "version": 3
   },
   "file_extension": ".py",
   "mimetype": "text/x-python",
   "name": "python",
   "nbconvert_exporter": "python",
   "pygments_lexer": "ipython3",
   "version": "3.11.7"
  }
 },
 "nbformat": 4,
 "nbformat_minor": 5
}
